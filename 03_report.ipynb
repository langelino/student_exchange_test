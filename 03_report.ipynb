{
 "cells": [
  {
   "cell_type": "markdown",
   "id": "e337395b",
   "metadata": {},
   "source": [
    "---\n",
    "title: Experiment 03 -- \"Gyroscope\"\n",
    "authors: \n",
    "    - name: Marguerite Larriere (Assistant 2024)\n",
    "      email: mlarriere@ethz.ch\n",
    "      role: Teaching Assistant\n",
    "---"
   ]
  },
  {
   "cell_type": "markdown",
   "id": "659055c5-0629-4dd4-941f-22f0cfc8fcda",
   "metadata": {},
   "source": [
    "**Date of experiment:** {2024-MM-DD}  \n",
    "**Version:** {1 for 1st assignment, 2 for corrected assignment, ...}\n",
    " \n",
    " - **Student 1:** {full name}\n",
    " - **Student 2:** {full name}"
   ]
  },
  {
   "cell_type": "markdown",
   "id": "e017b13b",
   "metadata": {},
   "source": [
    ":::{note} Feedbacks\n",
    "<span style=\"color: #AA225B;\"><strong>Box reserved for TA</strong></span>\n",
    "- <span style=\"color: #526CA3;\">_Feedback1:_</span>\n",
    "- <span style=\"color: #526CA3;\">_Feedback2:_</span>   \n",
    "\n",
    ":::"
   ]
  },
  {
   "cell_type": "markdown",
   "id": "3f8d84ec",
   "metadata": {},
   "source": [
    ":::{important} Learning Goals &#9971;\n",
    "- I understand the principles of angular momentum and precession applied to gyroscopes.\n",
    "- I can take accurate measurements.\n",
    "- I am able to analyze data and interpret results effectively.\n",
    "- I can present my experimental findings clearly in a Jupyter notebook.\n",
    "- I can recognise the main sources of error encountered during this experiment.\n",
    " :::"
   ]
  },
  {
   "cell_type": "markdown",
   "id": "da5a9366",
   "metadata": {},
   "source": [
    "____\n",
    "# Table of Contents\n",
    "1. [Introduction](#introduction)\n",
    "2. [Packages and functions](#packages)\n",
    "3. [Experiments](#experiments)\n",
    "    - [Determination of moment of inertia](#h-task1)\n",
    "    - [Alternative method to determine the moment of inertia](#h-task2)\n",
    "    - [Precession velocity](#h-task3)\n",
    "4. [Discussion](#discussion)\n",
    "5. [Feedbacks](#feedbacks)"
   ]
  },
  {
   "cell_type": "markdown",
   "id": "44862f8e",
   "metadata": {},
   "source": [
    "_____\n",
    "# 1. Introduction\n",
    "<a id=\"introduction\"></a>"
   ]
  },
  {
   "cell_type": "markdown",
   "id": "dfe39227",
   "metadata": {},
   "source": [
    "### Motivation\n",
    "\n",
    ":::{figure} 03_gyroscope.jpg\n",
    ":name: teaching ideas\n",
    ":class: banner-image\n",
    "Star Trails and Earth's Rotation\n",
    ":::\n",
    "\n",
    "\n",
    "**Milankovitch Cycles**\n",
    "\n",
    "Milutin Milankovitch hypothesized that variations in Earth's orbital motion affect the amount of solar radiation reaching the top of Earth's atmosphere, significantly influencing long-term climate patterns. These Milankovitch cycles include: \n",
    "\n",
    "- <span style=\"color: #C04A35;\"><strong>Eccentricity</strong></span>\n",
    "  measures the extent to which the shape of Earth's orbit differs from a perfect circle, affecting the distance between Earth and the Sun.\n",
    "- The angle at which Earth's axis of rotation is tilted as it travels around the Sun. This is known as <span style=\"color: #C04A35;\"><strong>obliquity</strong></span> and varies between 22.1 and 24.5 degrees with respect to Earth's orbital plane.\n",
    "- As Earth rotates, it slightly shifts on its axis, similar to a spinning top that isn't perfectly centered. Known as axial <span style=\"color: #C04A35;\"><strong>precession</strong></span>, this phenomenon results from tidal forces caused by the gravitational influences of the Sun and Moon, which cause Earth to bulge at the equator and affect its rotation relative to the fixed positions of stars.\n",
    "\n",
    "\n",
    "**TRUE or FALSE**\n",
    "\n",
    "Eccentricity is the cause that the seasons are of slightly different lengths (summers lasting 4.5days more than winters).\n",
    "- [x] True\n",
    "- [ ] False\n",
    "\n",
    "Obliquity is why Earth has seasons. The lower Earth’s axial tilt angle, the more extreme our seasons are.\n",
    "- [ ] True\n",
    "- [x] False\n",
    "\n",
    "Precession influences the timing of Earth's closest and farthest points from the Sun, affecting seasonal intensity.\n",
    "- [x] True\n",
    "- [ ] False\n"
   ]
  },
  {
   "cell_type": "markdown",
   "id": "555249c0",
   "metadata": {
    "jp-MarkdownHeadingCollapsed": true
   },
   "source": [
    "\n",
    "### 1.1 Introduction to the experiment\n",
    "\n",
    "- What is the experiment about? What is the objective?\n"
   ]
  },
  {
   "cell_type": "markdown",
   "id": "e9cd4171",
   "metadata": {},
   "source": [
    "<!-- Your answer -->"
   ]
  },
  {
   "cell_type": "markdown",
   "id": "e0ab09cb",
   "metadata": {},
   "source": [
    "\n",
    "### 1.2 Summary of theory\n",
    "\n",
    "- Give the main formulas and explain them. What are they used for in this experiemnt? <span style=\"color: #D64045;\">**Don't forget to explain the variables and to give the units!**</span>\n",
    "   "
   ]
  },
  {
   "cell_type": "markdown",
   "id": "efadc897",
   "metadata": {},
   "source": [
    ":::{hint} Click me &#9756;\n",
    ":class: dropdown\n",
    "If this is your first time writing a mathematical formula in Markdown, here are a few tips : \n",
    "\n",
    "1. Each formula has to start and finish by the symbol `$`\n",
    "\n",
    "2. A division can be written as:\n",
    "   `\\frac{`<span style=\"color: #86B46A;\">numerator</span>`}{`<span style=\"color: #86B46A;\">denominator</span>`}`\n",
    "\n",
    "4. Exponents needs the symbol `^`, i.e $x$^2 = $x^2$\n",
    "5. Subscripts needs the symbol `_` , i.e $x$ _2 = $x_2$\n",
    "\n",
    "6. The greeks letters are often given by writting down their name, i.e. `\\alpha` for $\\alpha$\n",
    "\n",
    "#### Example\n",
    "\n",
    "\\theta={\\frac{2mgh}{\\omega_0^2}-mR^2} → $\\theta={\\frac{2mgh}{\\omega_0^2}-mR^2}$\n",
    "\n",
    "More info can be find on different cheetsheets online such as https://www.upyesp.org/posts/makrdown-vscode-math-notation/\n",
    "\n",
    ":::"
   ]
  },
  {
   "cell_type": "markdown",
   "id": "e2468292",
   "metadata": {},
   "source": [
    "<!-- Your answer -->"
   ]
  },
  {
   "cell_type": "markdown",
   "id": "534fab64",
   "metadata": {},
   "source": [
    "\n",
    "### 1.3 Tasks\n",
    "\n",
    "- What are the tasks for the experiment?\n"
   ]
  },
  {
   "cell_type": "markdown",
   "id": "a3a535bc",
   "metadata": {},
   "source": [
    "<!-- Your answer -->"
   ]
  },
  {
   "cell_type": "markdown",
   "id": "91420004",
   "metadata": {},
   "source": [
    "\n",
    "### 1.4 Environmental relevance\n",
    "\n",
    "- How is the experiment relevant to your studies in environmental science? (1-2 sentences)"
   ]
  },
  {
   "cell_type": "markdown",
   "id": "3e371911",
   "metadata": {},
   "source": [
    "<!-- Your answer -->"
   ]
  },
  {
   "cell_type": "markdown",
   "id": "e1244d8b-ecc2-4e0d-9cc8-252388b21215",
   "metadata": {},
   "source": [
    "_____\n",
    "# 2. Packages and functions\n",
    "<a id=\"packages\"></a>"
   ]
  },
  {
   "cell_type": "markdown",
   "id": "4992f88f",
   "metadata": {},
   "source": [
    "### 2.1 Load packages\n",
    "You may not use all of these packages. You can comment out the ones you don't need."
   ]
  },
  {
   "cell_type": "code",
   "execution_count": 1,
   "id": "5c38d3d2",
   "metadata": {},
   "outputs": [],
   "source": [
    "#NOTE: not every packages is used in this notebook\n",
    "# Numerical computing\n",
    "import math           # Math functions (sin, cos, ...)\n",
    "import numpy as np    # Fundamental package for numerical computing in Python\n",
    "import scipy          # Scientific computing (Interpolation, optimization, function fitting, ...)\n",
    "\n",
    "# Uncertainty calculations (error propagation)\n",
    "from uncertainties import ufloat   # For handling numbers with uncertainties\n",
    "from uncertainties.umath import *  # For applying mathematical functions with uncertainties\n",
    "from uncertainties import unumpy   # For handling uncertainties in arrays\n",
    "\n",
    "# Tabled data (data frames, spread sheets) manipulation and analysis\n",
    "import pandas as pd                # DataFrames\n",
    "from ipydatagrid import DataGrid   # Interactive tables\n",
    "\n",
    "# Plotting package (figures) \n",
    "import matplotlib.pyplot as plt    # Library for creating static, interactive, and animated visualizations"
   ]
  },
  {
   "cell_type": "markdown",
   "id": "44a0bf19",
   "metadata": {},
   "source": [
    "### 2.2 Define functions"
   ]
  },
  {
   "cell_type": "markdown",
   "id": "c288e59d",
   "metadata": {},
   "source": [
    ":::{note} Tips \n",
    "Group all your functions together in one place to keep your notebook in order and **avoid repeating the same calculations**. Comment on each function to explain its purpose and how it works, which will make your code easier to understand.\n",
    ":::\n"
   ]
  },
  {
   "cell_type": "markdown",
   "id": "c21002a2",
   "metadata": {},
   "source": [
    ":::{hint} Creating function in Python\n",
    ":class: dropdown\n",
    "## Creating a Function in Python\n",
    "\n",
    "Functions in Python are defined using the `def` keyword followed by the function name and parentheses containing any parameters. Below is an example of how to create a simple function that adds two numbers and returns the result.\n",
    "\n",
    "### Example: Adding Two Numbers\n",
    "\n",
    "```{code-cell} python\n",
    "# Define a function that adds two numbers\n",
    "def add_numbers(num1, num2):\n",
    "    \"\"\"\n",
    "    This function takes two numbers num1 and num2 as input and returns their sum.\n",
    "    \"\"\"\n",
    "    result = num1 + num2\n",
    "    return result\n",
    "\n",
    "# Example usage of the function\n",
    "number1 = 5\n",
    "number2 = 3\n",
    "sum_result = add_numbers(number1, number2)\n",
    "print(f\"The sum of {number1} and {number2} is {sum_result}\")\n",
    "\n",
    "```\n",
    "```\n",
    "The sum of 5 and 3 is 8\n",
    "```\n",
    ":::"
   ]
  },
  {
   "cell_type": "markdown",
   "id": "757fd617",
   "metadata": {},
   "source": [
    "#### <span style='color:darkcyan'> Your functions: </span>"
   ]
  },
  {
   "cell_type": "code",
   "execution_count": null,
   "id": "c31f34b0",
   "metadata": {},
   "outputs": [],
   "source": []
  },
  {
   "cell_type": "markdown",
   "id": "0e0e2bce",
   "metadata": {},
   "source": [
    "_____\n",
    "# 3. Experiments\n",
    "<a id=\"experiments\"></a>"
   ]
  },
  {
   "cell_type": "markdown",
   "id": "e10fc6bb",
   "metadata": {},
   "source": [
    "<a id=\"h-task1\"></a>\n",
    ":::{tip}Task 1. Determination of moment of inertia\n",
    "The moment of inertia θ of the gyroscope wheel is to be determined.\n",
    ":::"
   ]
  },
  {
   "cell_type": "markdown",
   "id": "dd0838b5",
   "metadata": {},
   "source": [
    "### &#9758; Measurement data\n"
   ]
  },
  {
   "cell_type": "markdown",
   "id": "6ec111c3",
   "metadata": {},
   "source": [
    "<span style='color:darkcyan'> <i>Perform the measurement with different masses m and repeated multiple times in order to get an average value of θ each time.</i></span>"
   ]
  },
  {
   "cell_type": "markdown",
   "id": "fc32784d",
   "metadata": {},
   "source": [
    ":::{hint} Your measurements\n",
    ":class: dropdown\n",
    "### Using `unumpy.uarray`\n",
    "\n",
    "To write <span style='color:#DC602E'>**multiple measurements of the same quantity**</span> you can use `unumpy.uarray` function from the `uncertainties` package. By doing so, you will create an array of measured values and their associated errors using the `unumpy.uarray` function from the `uncertainties` package:\n",
    "\n",
    "<code>array = unumpy.uarray([measured_value_1, measured_value_2, ...], [abs_error_1, abs_error_2, ...])</code>. \n",
    "\n",
    "### Example \n",
    "\n",
    "This example demonstrates how to create an array of multiple mass measurements with their uncertainties, and how to extract and print the nominal values and standard deviations separately.\n",
    "\n",
    "```{code-cell} python\n",
    "# Sample data and their std. deviations (errors)\n",
    "data_vals = [0.1, 0.2, 0.3, 0.5, 1]\n",
    "print(f\"Data values: {data_vals},\")\n",
    "\n",
    "data_std = [0.005, 0.003, 0.005, 0.002, 0.005]\n",
    "print(f\"Associated standard deviations: {data_std}.\\n\")\n",
    "\n",
    "# Combine values and there standard deviations for error propagation calculations in an uarray:\n",
    "data = unumpy.uarray(data_vals, data_std)  # [kg] mass \n",
    "\n",
    "# Printing the array\n",
    "print(\"Data and standard deviations ombined in an uarray):\")\n",
    "print(f\"Data uarray: {data}\")\n",
    "\n",
    "# Separating back out values (nominal_values) and standard deviations\n",
    "nominal_values = unumpy.nominal_values(data)\n",
    "std_devs = unumpy.std_devs(data)\n",
    "\n",
    "# Print nominal values and standard deviations separately\n",
    "print(\"\\nRe-extraced values and std dev.:\")\n",
    "print(f\"Nominal values: {nominal_values},\")\n",
    "print(f\"Standard deviations: {std_devs}.\")\n",
    "print(std_devs)\n",
    "\n",
    "```\n",
    "```\n",
    "Data values: [0.1, 0.2, 0.3, 0.5, 1],\n",
    "Associated standard deviations: [0.005, 0.003, 0.005, 0.002, 0.005].\n",
    "\n",
    "Data and standard deviations ombined in an uarray):\n",
    "Data uarray: [0.1+/-0.005 0.2+/-0.003 0.3+/-0.005 0.5+/-0.002 1.0+/-0.005]\n",
    "\n",
    "Re-extraced values and std dev.:\n",
    "Nominal values: [0.1 0.2 0.3 0.5 1. ],\n",
    "Standard deviations: [0.005 0.003 0.005 0.002 0.005].\n",
    "[0.005 0.003 0.005 0.002 0.005]\n",
    "\n",
    "```\n",
    ":::"
   ]
  },
  {
   "cell_type": "markdown",
   "id": "f1983649-3c91-4be2-95e2-477aa69509de",
   "metadata": {},
   "source": [
    "#### Enter your measured radius R with error here. Do not forget the units!"
   ]
  },
  {
   "cell_type": "code",
   "execution_count": 2,
   "id": "2edd0f54",
   "metadata": {},
   "outputs": [
    {
     "name": "stdout",
     "output_type": "stream",
     "text": [
      "R = 0.0±0 [?]\n"
     ]
    }
   ],
   "source": [
    "\n",
    "R = ufloat (0., 0.)  # [unit] (+/- error)radius of the wheel\n",
    "print(f\"R = {R:P} [?]\")"
   ]
  },
  {
   "cell_type": "code",
   "execution_count": 3,
   "id": "822dc586-5d09-4b3a-b563-caae8c5c5607",
   "metadata": {
    "scrolled": true
   },
   "outputs": [],
   "source": [
    "# We create a Pandas DataFrame (a table with named columns)\n",
    "n_rows = 5 # Number of measurement rows in table\n",
    "\n",
    "# Todo: Fix the column names (enter units  of your values)\n",
    "df = pd.DataFrame({ \"m [?]\"   : [0.0]*n_rows, \"Δm [?]\" : [0.0]*n_rows  \n",
    "                  , \"h [?]\" : [0.0]*n_rows, \"Δh [?]\" : [0.0]*n_rows\n",
    "                  , \"t [?]\"   : [0.0]*n_rows, \"Δt [?]\" : [0.0]*n_rows\n",
    "                  })"
   ]
  },
  {
   "cell_type": "markdown",
   "id": "2c5541ce-8a45-4096-b42e-cd45e971fba6",
   "metadata": {},
   "source": [
    "###  Measurements\n",
    "#### &#9758; Measurement data  \n",
    "Fill in your measurements in the interactive table below.\n",
    "Remember to define all names (m, Δm, etc.) and state their units in the brackets. \n",
    "\n",
    "If the table is not shown properly, try re-evaluating the cell."
   ]
  },
  {
   "cell_type": "code",
   "execution_count": 11,
   "id": "e3aec4cb-6ba7-4bd7-936f-a9a37c259e75",
   "metadata": {
    "scrolled": true
   },
   "outputs": [
    {
     "data": {
      "application/vnd.jupyter.widget-view+json": {
       "model_id": "4e23a66724b048aaa06f8a0bb9ee6fc3",
       "version_major": 2,
       "version_minor": 0
      },
      "text/plain": [
       "DataGrid(auto_fit_columns=True, auto_fit_params={'area': 'all', 'padding': 30, 'numCols': None}, corner_render…"
      ]
     },
     "execution_count": 11,
     "metadata": {},
     "output_type": "execute_result"
    }
   ],
   "source": [
    "# The \"DataGrid\" below makes the DataFrame above editable, so that is you can enter \n",
    "# your measurements  into this table:\n",
    "measurement_grid = DataGrid(df, editable = True, auto_fit_columns = True, index_name=\"No\")\n",
    "measurement_grid"
   ]
  },
  {
   "cell_type": "code",
   "execution_count": 5,
   "id": "02f25bbf-54bb-4b79-832d-35fc878d4310",
   "metadata": {
    "scrolled": true
   },
   "outputs": [
    {
     "data": {
      "text/html": [
       "<div>\n",
       "<style scoped>\n",
       "    .dataframe tbody tr th:only-of-type {\n",
       "        vertical-align: middle;\n",
       "    }\n",
       "\n",
       "    .dataframe tbody tr th {\n",
       "        vertical-align: top;\n",
       "    }\n",
       "\n",
       "    .dataframe thead th {\n",
       "        text-align: right;\n",
       "    }\n",
       "</style>\n",
       "<table border=\"1\" class=\"dataframe\">\n",
       "  <thead>\n",
       "    <tr style=\"text-align: right;\">\n",
       "      <th></th>\n",
       "      <th>m [?]</th>\n",
       "      <th>Δm [?]</th>\n",
       "      <th>h [?]</th>\n",
       "      <th>Δh [?]</th>\n",
       "      <th>t [?]</th>\n",
       "      <th>Δt [?]</th>\n",
       "    </tr>\n",
       "    <tr>\n",
       "      <th>No</th>\n",
       "      <th></th>\n",
       "      <th></th>\n",
       "      <th></th>\n",
       "      <th></th>\n",
       "      <th></th>\n",
       "      <th></th>\n",
       "    </tr>\n",
       "  </thead>\n",
       "  <tbody>\n",
       "    <tr>\n",
       "      <th>0</th>\n",
       "      <td>0.0</td>\n",
       "      <td>0.0</td>\n",
       "      <td>0.0</td>\n",
       "      <td>0.0</td>\n",
       "      <td>0.0</td>\n",
       "      <td>0.0</td>\n",
       "    </tr>\n",
       "    <tr>\n",
       "      <th>1</th>\n",
       "      <td>0.0</td>\n",
       "      <td>0.0</td>\n",
       "      <td>0.0</td>\n",
       "      <td>0.0</td>\n",
       "      <td>0.0</td>\n",
       "      <td>0.0</td>\n",
       "    </tr>\n",
       "    <tr>\n",
       "      <th>2</th>\n",
       "      <td>0.0</td>\n",
       "      <td>0.0</td>\n",
       "      <td>0.0</td>\n",
       "      <td>0.0</td>\n",
       "      <td>0.0</td>\n",
       "      <td>0.0</td>\n",
       "    </tr>\n",
       "    <tr>\n",
       "      <th>3</th>\n",
       "      <td>0.0</td>\n",
       "      <td>0.0</td>\n",
       "      <td>0.0</td>\n",
       "      <td>0.0</td>\n",
       "      <td>0.0</td>\n",
       "      <td>0.0</td>\n",
       "    </tr>\n",
       "    <tr>\n",
       "      <th>4</th>\n",
       "      <td>0.0</td>\n",
       "      <td>0.0</td>\n",
       "      <td>0.0</td>\n",
       "      <td>0.0</td>\n",
       "      <td>0.0</td>\n",
       "      <td>0.0</td>\n",
       "    </tr>\n",
       "  </tbody>\n",
       "</table>\n",
       "</div>"
      ],
      "text/plain": [
       "    m [?]  Δm [?]  h [?]  Δh [?]  t [?]  Δt [?]\n",
       "No                                             \n",
       "0     0.0     0.0    0.0     0.0    0.0     0.0\n",
       "1     0.0     0.0    0.0     0.0    0.0     0.0\n",
       "2     0.0     0.0    0.0     0.0    0.0     0.0\n",
       "3     0.0     0.0    0.0     0.0    0.0     0.0\n",
       "4     0.0     0.0    0.0     0.0    0.0     0.0"
      ]
     },
     "execution_count": 5,
     "metadata": {},
     "output_type": "execute_result"
    }
   ],
   "source": [
    "# Re-evaluate this cell to copy your measurement data back into the data frame\n",
    "df = measurement_grid.data\n",
    "df"
   ]
  },
  {
   "cell_type": "markdown",
   "id": "28e7d7a2",
   "metadata": {},
   "source": [
    "### &#9758; Calculate the moment of inertia.\n",
    "\n",
    "Do not forget to state the units and the accuary.  Since you took several measurements, you can use either error propagation (the uncertainty package) or the standard deviation of your results.  Discuss which one you use and why. "
   ]
  },
  {
   "cell_type": "code",
   "execution_count": 6,
   "id": "f81c57ab-0ec3-44a9-90d7-e92e7899b167",
   "metadata": {},
   "outputs": [],
   "source": [
    "# Your calculations here m_mean = np.mean(m)\n",
    "#m_mean\n",
    "# m_std1 = sc.stats.tstd(m).item()\n",
    "#m_std = np.std(m, ddof=1)\n",
    "#print(f\"m = {m_mean:1.2f} +/- {m_std:1.2f}\\n\")\n",
    "#m_u = ufloat(m_mean,m_std)\n",
    "#um = unumpy.uarray(df[[\"Mass m [kg]\"]], df[[\"std m [?]\"]])"
   ]
  },
  {
   "cell_type": "code",
   "execution_count": null,
   "id": "25a40225",
   "metadata": {},
   "outputs": [],
   "source": []
  },
  {
   "cell_type": "markdown",
   "id": "4a54ff64",
   "metadata": {},
   "source": [
    "<span style='color:darkcyan'> <i>Calculate the mean values of the measured quantities which are necessary for the calculation of θ. </i></span> \n",
    "\n",
    "You can use the function `np.mean()` from `numpy`"
   ]
  },
  {
   "cell_type": "code",
   "execution_count": null,
   "id": "a7388db8",
   "metadata": {},
   "outputs": [],
   "source": []
  },
  {
   "cell_type": "markdown",
   "id": "a247d0f2",
   "metadata": {},
   "source": [
    "<span style='color:darkcyan'> <i>Calculate the moment of inertia (incl. error). </i></span>"
   ]
  },
  {
   "cell_type": "code",
   "execution_count": null,
   "id": "e99b04fd",
   "metadata": {},
   "outputs": [],
   "source": []
  },
  {
   "cell_type": "markdown",
   "id": "ab2f8e39",
   "metadata": {},
   "source": [
    "<span style='color:darkcyan'> <i>Print your results, including errors and units. </i></span>"
   ]
  },
  {
   "cell_type": "code",
   "execution_count": null,
   "id": "9fa3e3a6",
   "metadata": {},
   "outputs": [],
   "source": []
  },
  {
   "cell_type": "markdown",
   "id": "06d12a6a",
   "metadata": {},
   "source": [
    "<a id=\"h-task2\"></a>\n",
    ":::{tip} Task 2. Alternative method to determine the moment of inertia\n",
    "Measure the angular velocity Ω of the precession for different rotation speeds of the wheel, as well as for various weights G, and compare them with the values calculated according to Equation (6).\n",
    ":::"
   ]
  },
  {
   "cell_type": "markdown",
   "id": "71c24743-5bd3-41b5-a915-0c5308d8a74e",
   "metadata": {},
   "source": [
    "\n",
    "#### &#9758; Measurement data  \n",
    "Fill in your measurements in the interactive table below.\n",
    "Remember to define all names (m_t, N_w, etc.) and state their units in the brackets. \n",
    "\n",
    "If the table is not shown properly, try re-evaluating the cell."
   ]
  },
  {
   "cell_type": "code",
   "execution_count": 7,
   "id": "8fc6a5b9-694d-4832-a8e9-45f02ab1c9a6",
   "metadata": {},
   "outputs": [],
   "source": [
    "l = ufloat(0.0, 0.0)     # [unit], accuracy distance rotation axis of bar - mass (see fig. 6) "
   ]
  },
  {
   "cell_type": "code",
   "execution_count": 8,
   "id": "6c0fb591-0129-46ab-aed4-b4d56d55369b",
   "metadata": {
    "scrolled": true
   },
   "outputs": [],
   "source": [
    "# We create a Pandas DataFrame (a table with named columns)\n",
    "n_rows = 5 # Number of measurement rows in table\n",
    "\n",
    "# Todo: Fix the column names (enter units  of your values).  Hint: The t in m_t stands for torque.\n",
    "df2 = pd.DataFrame({ \"m_t[?]\"   : [0.0]*n_rows, \"Δm_t [?]\" : [0.0]*n_rows  # Replace 0.0 and add units in [?]\n",
    "                  , \"N_w [?]\" : [0.0]*n_rows, \" ΔT_w[?]\" : [0.0]*n_rows\n",
    "                  , \"N_p [?]\"   : [0.0]*n_rows, \"ΔT_p [?]\" : [0.0]*n_rows\n",
    "                  })"
   ]
  },
  {
   "cell_type": "code",
   "execution_count": 9,
   "id": "8a094830-9b90-4f4e-86ee-7fa9602e0363",
   "metadata": {
    "scrolled": true
   },
   "outputs": [
    {
     "data": {
      "application/vnd.jupyter.widget-view+json": {
       "model_id": "8ffd42724c344080ae52d21a39801f81",
       "version_major": 2,
       "version_minor": 0
      },
      "text/plain": [
       "DataGrid(auto_fit_columns=True, auto_fit_params={'area': 'all', 'padding': 30, 'numCols': None}, corner_render…"
      ]
     },
     "execution_count": 9,
     "metadata": {},
     "output_type": "execute_result"
    }
   ],
   "source": [
    "# The \"DataGrid\" below makes the DataFrame above editable, so that is you can enter \n",
    "# your measurements  into this table:\n",
    "measurement_grid2 = DataGrid(df2, editable = True, auto_fit_columns = True, index_name=\"No\")\n",
    "measurement_grid2\n",
    "# Fill in your measurements below"
   ]
  },
  {
   "cell_type": "code",
   "execution_count": 10,
   "id": "f33a44de-37ea-4502-830b-34f88cf5c020",
   "metadata": {},
   "outputs": [
    {
     "data": {
      "text/html": [
       "<div>\n",
       "<style scoped>\n",
       "    .dataframe tbody tr th:only-of-type {\n",
       "        vertical-align: middle;\n",
       "    }\n",
       "\n",
       "    .dataframe tbody tr th {\n",
       "        vertical-align: top;\n",
       "    }\n",
       "\n",
       "    .dataframe thead th {\n",
       "        text-align: right;\n",
       "    }\n",
       "</style>\n",
       "<table border=\"1\" class=\"dataframe\">\n",
       "  <thead>\n",
       "    <tr style=\"text-align: right;\">\n",
       "      <th></th>\n",
       "      <th>m_t[?]</th>\n",
       "      <th>Δm_t [?]</th>\n",
       "      <th>N_w [?]</th>\n",
       "      <th>ΔT_w[?]</th>\n",
       "      <th>N_p [?]</th>\n",
       "      <th>ΔT_p [?]</th>\n",
       "    </tr>\n",
       "    <tr>\n",
       "      <th>No</th>\n",
       "      <th></th>\n",
       "      <th></th>\n",
       "      <th></th>\n",
       "      <th></th>\n",
       "      <th></th>\n",
       "      <th></th>\n",
       "    </tr>\n",
       "  </thead>\n",
       "  <tbody>\n",
       "    <tr>\n",
       "      <th>0</th>\n",
       "      <td>0.0</td>\n",
       "      <td>0.0</td>\n",
       "      <td>0.0</td>\n",
       "      <td>0.0</td>\n",
       "      <td>0.0</td>\n",
       "      <td>0.0</td>\n",
       "    </tr>\n",
       "    <tr>\n",
       "      <th>1</th>\n",
       "      <td>0.0</td>\n",
       "      <td>0.0</td>\n",
       "      <td>0.0</td>\n",
       "      <td>0.0</td>\n",
       "      <td>0.0</td>\n",
       "      <td>0.0</td>\n",
       "    </tr>\n",
       "    <tr>\n",
       "      <th>2</th>\n",
       "      <td>0.0</td>\n",
       "      <td>0.0</td>\n",
       "      <td>0.0</td>\n",
       "      <td>0.0</td>\n",
       "      <td>0.0</td>\n",
       "      <td>0.0</td>\n",
       "    </tr>\n",
       "    <tr>\n",
       "      <th>3</th>\n",
       "      <td>0.0</td>\n",
       "      <td>0.0</td>\n",
       "      <td>0.0</td>\n",
       "      <td>0.0</td>\n",
       "      <td>0.0</td>\n",
       "      <td>0.0</td>\n",
       "    </tr>\n",
       "    <tr>\n",
       "      <th>4</th>\n",
       "      <td>0.0</td>\n",
       "      <td>0.0</td>\n",
       "      <td>0.0</td>\n",
       "      <td>0.0</td>\n",
       "      <td>0.0</td>\n",
       "      <td>0.0</td>\n",
       "    </tr>\n",
       "  </tbody>\n",
       "</table>\n",
       "</div>"
      ],
      "text/plain": [
       "    m_t[?]  Δm_t [?]  N_w [?]   ΔT_w[?]  N_p [?]  ΔT_p [?]\n",
       "No                                                        \n",
       "0      0.0       0.0      0.0       0.0      0.0       0.0\n",
       "1      0.0       0.0      0.0       0.0      0.0       0.0\n",
       "2      0.0       0.0      0.0       0.0      0.0       0.0\n",
       "3      0.0       0.0      0.0       0.0      0.0       0.0\n",
       "4      0.0       0.0      0.0       0.0      0.0       0.0"
      ]
     },
     "execution_count": 10,
     "metadata": {},
     "output_type": "execute_result"
    }
   ],
   "source": [
    "# Re-evaluate this cell to copy your measurement data back into the data frame\n",
    "df2 = measurement_grid2.data\n",
    "df2"
   ]
  },
  {
   "cell_type": "markdown",
   "id": "9964b19f",
   "metadata": {},
   "source": [
    ":::{warning} Choosing Variable Names\n",
    ":class: dropdown\n",
    "Take care when choosing names for your variables - make sure that you <span style='color:#DC602E'>**don't use the same name for different variables**</span> throughout the whole notebook! <br/>\n",
    "\n",
    "1. **Unique Names**: Ensure each variable name is unique and meaningfull. If measuring the same quantity in multiple experiments, include the experiment number in the name (e.g., `mass_exp1`, `mass_exp2`).\n",
    "\n",
    "2. **Avoid Overwrites**: Reusing variable names can cause confusion and incorrect results, depending on the order of cell execution. \n",
    "\n",
    ":::"
   ]
  },
  {
   "cell_type": "markdown",
   "id": "88765015",
   "metadata": {},
   "source": []
  },
  {
   "cell_type": "markdown",
   "id": "9965773e",
   "metadata": {},
   "source": [
    "<span style='color:darkcyan'> <i>Conduct the experiment with different weights and for both directions of rotation of the wheel and fill in the table above</i></span>"
   ]
  },
  {
   "cell_type": "markdown",
   "id": "f447649c",
   "metadata": {},
   "source": [
    "### &#9758; Evaluation"
   ]
  },
  {
   "cell_type": "markdown",
   "id": "a1bf1eb9",
   "metadata": {},
   "source": [
    "<span style='color:darkcyan'> <i>Calculate the gyro's moment of inertia $\\theta$ from the measured precessions.\n"
   ]
  },
  {
   "cell_type": "code",
   "execution_count": null,
   "id": "68185989",
   "metadata": {},
   "outputs": [],
   "source": []
  },
  {
   "cell_type": "markdown",
   "id": "42408143",
   "metadata": {},
   "source": [
    "<span style='color:darkcyan'> <i>Print your data in a table. </i></span>"
   ]
  },
  {
   "cell_type": "code",
   "execution_count": null,
   "id": "b778fe65",
   "metadata": {},
   "outputs": [],
   "source": []
  },
  {
   "cell_type": "markdown",
   "id": "a6d701e4",
   "metadata": {},
   "source": [
    "<span style='color:darkcyan'> <i>Calculate the mean of </i></span> $\\frac{\\Omega \\omega}{G}$<span style='color:darkcyan'> <i>. </i></span>"
   ]
  },
  {
   "cell_type": "code",
   "execution_count": null,
   "id": "c5eacc32",
   "metadata": {},
   "outputs": [],
   "source": []
  },
  {
   "cell_type": "markdown",
   "id": "ce81e361",
   "metadata": {},
   "source": [
    "<span style='color:darkcyan'> <i>Calculate the momentum of inertia from this value.</i></span>"
   ]
  },
  {
   "cell_type": "code",
   "execution_count": null,
   "id": "094546f3",
   "metadata": {},
   "outputs": [],
   "source": []
  },
  {
   "cell_type": "markdown",
   "id": "e3921eb7",
   "metadata": {},
   "source": [
    "<span style='color:darkcyan'> <i>Print your results (incl. errors and units).</i></span>"
   ]
  },
  {
   "cell_type": "code",
   "execution_count": null,
   "id": "582755e0",
   "metadata": {},
   "outputs": [],
   "source": []
  },
  {
   "cell_type": "markdown",
   "id": "06ea0376",
   "metadata": {},
   "source": [
    "<a id=\"h-task2\"></a>\n",
    ":::{tip} Task 3. Vector relationship of $\\vec{L}$ and $\\vec{M}$\n",
    "Convince yourself of the validity of the vectorial relationship of $\\vec{L}$ and $\\vec{M}$, by setting the wheel in different directions of circulation.\n",
    ":::\n"
   ]
  },
  {
   "cell_type": "markdown",
   "id": "241dae89-404c-4502-82a4-ba9a4ae4d3e7",
   "metadata": {},
   "source": [
    "### &#9758; Evaluation"
   ]
  },
  {
   "cell_type": "markdown",
   "id": "5c8912e7",
   "metadata": {},
   "source": [
    "<span style='color:darkcyan'> <i>Calculate the average of the measured times t and the momentum of inertia θ. </i></span>"
   ]
  },
  {
   "cell_type": "code",
   "execution_count": null,
   "id": "36d5ca43",
   "metadata": {},
   "outputs": [],
   "source": []
  },
  {
   "cell_type": "markdown",
   "id": "1b8338e3",
   "metadata": {},
   "source": [
    "<span style='color:darkcyan'> <i>Print your results (incl. errors and units).</i></span>"
   ]
  },
  {
   "cell_type": "code",
   "execution_count": null,
   "id": "1325b65f",
   "metadata": {},
   "outputs": [],
   "source": []
  },
  {
   "cell_type": "markdown",
   "id": "33be6cdf",
   "metadata": {},
   "source": [
    "<span style='color:darkcyan'> <i>Compare the results of the two methods for determining θ and discuss differences in\n",
    "the variances of the two datasets by considering the uncertainty on the calculated values for the moment of inertia.</i></span>"
   ]
  },
  {
   "cell_type": "markdown",
   "id": "c91c8630",
   "metadata": {},
   "source": [
    "___\n",
    "# 4. Discussion\n",
    "<a id=\"discussion\"></a>"
   ]
  },
  {
   "cell_type": "markdown",
   "id": "51b6c016",
   "metadata": {},
   "source": [
    "<span style='color:darkcyan'> <i>Are your results realistic? Why (not)? Comparison with theory? </i></span>"
   ]
  },
  {
   "cell_type": "markdown",
   "id": "d5135fbf",
   "metadata": {},
   "source": []
  },
  {
   "cell_type": "markdown",
   "id": "10f0ab5c",
   "metadata": {},
   "source": [
    "<span style='color:darkcyan'> <i>What measurement errors were assumed? Why? <br/>\n",
    "    What are the main reasons for the errors in your results and how do they come about?</i></span>"
   ]
  },
  {
   "cell_type": "markdown",
   "id": "4ad03e7c",
   "metadata": {},
   "source": []
  },
  {
   "cell_type": "markdown",
   "id": "b0de4e43",
   "metadata": {},
   "source": [
    "<span style='color:darkcyan'> <i>How would you try to reduce the error further? Could you improve the accuracy of the experiment? </i></span>"
   ]
  },
  {
   "cell_type": "markdown",
   "id": "67bddab1",
   "metadata": {},
   "source": []
  },
  {
   "cell_type": "markdown",
   "id": "a609bb5e",
   "metadata": {},
   "source": [
    "<span style='color:darkcyan'> <i>If you were to repeat the experiment, what would you do differently and why?</i></span>"
   ]
  },
  {
   "cell_type": "markdown",
   "id": "1852e593",
   "metadata": {},
   "source": []
  },
  {
   "cell_type": "markdown",
   "id": "7b1e3a3b",
   "metadata": {},
   "source": [
    "_____\n",
    "# 5. Feedbacks\n",
    "<a id=\"feedbacks\"></a>\n",
    "\n",
    "\n",
    ":::{note} Your feedbacks\n",
    "⭐ <span style='color:#1B4079'> Please give us feedback on this notebook template and the experiments</span> ⭐\n",
    "- [ ] The content of this notebook template was clear and easy to follow and amend.\n",
    "- [ ] The examples provided were helpful.\n",
    "- [ ] We spend the most time of section\n",
    "   - [ ] Writing the introduciton\n",
    "   - [ ] Doing the experiments\n",
    "   - [ ] Writing the function for the analysis of the experiment\n",
    "   - [ ] Calculating the results for task 1.\n",
    "   - [ ] Calculating the results for task 2\n",
    "   - [ ] Calculating the results for taks 3.\n",
    "- [ ] The explanations were\n",
    "   - [ ]  too long\n",
    "   - [ ]  too short\n",
    "   - [ ]  just right\n",
    "- [ ] We encountered difficulties understanding some parts.\n",
    "   - If so, please write down which part.\n",
    "\n",
    "\n",
    ":::"
   ]
  },
  {
   "cell_type": "markdown",
   "id": "21c6a39b",
   "metadata": {},
   "source": [
    "Additional comments or suggestions for improvements:\n"
   ]
  },
  {
   "cell_type": "markdown",
   "id": "c69226a1",
   "metadata": {},
   "source": []
  }
 ],
 "metadata": {
  "kernelspec": {
   "display_name": "Python 3 (ipykernel)",
   "language": "python",
   "name": "python3"
  },
  "language_info": {
   "codemirror_mode": {
    "name": "ipython",
    "version": 3
   },
   "file_extension": ".py",
   "mimetype": "text/x-python",
   "name": "python",
   "nbconvert_exporter": "python",
   "pygments_lexer": "ipython3",
   "version": "3.12.3"
  }
 },
 "nbformat": 4,
 "nbformat_minor": 5
}
